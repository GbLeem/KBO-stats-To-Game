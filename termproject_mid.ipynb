{
 "cells": [
  {
   "cell_type": "markdown",
   "metadata": {},
   "source": [
    "## Term Project Mid-report"
   ]
  },
  {
   "cell_type": "markdown",
   "metadata": {},
   "source": [
    "#### 소프트웨어융합학과 2018103258 임형준\n"
   ]
  },
  {
   "cell_type": "markdown",
   "metadata": {},
   "source": [
    "### 1. 주제\n",
    "KBO 프로야구 선수들의 성적을 토대로 게임 내에서 합당한 선수카드의 능력치 설정\n"
   ]
  },
  {
   "cell_type": "markdown",
   "metadata": {},
   "source": [
    "### 2. 가설 혹은 명제\n",
    "\n",
    "- 가설 1) 야구 게임 \"마구마구\" 의 경우 한 시즌 간 선수들의 능력치를 제대로 반영하여 선수카드 능력치를 측정하지 않은 경우가 존재 할 것이다.\n",
    "\n",
    "- 가설 2) 인기팀 (인기 선수)의 경우 유사한 기록을 가진 혹은 더 좋은 성적을 가진 선수보다 더 높은 능력치를 부여받은 경우가 있을 것이다.\n"
   ]
  },
  {
   "cell_type": "markdown",
   "metadata": {},
   "source": [
    "### 3. 분석한 데이터의 출처와 데이터 내용\n",
    "\n",
    "- 데이터의 출처\n",
    "  - 스탯티즈 홈페이지 (http://www.statiz.co.kr/main.php)\n",
    "  - KBO 공식 홈페이지 (https://www.koreabaseball.com/Default.aspx)  \n",
    "  - 마구마구 인게임 (https://ma9.netmarble.net/main.asp)\n",
    "  <br/><br/>\n",
    "- 데이터 내용 \n",
    "  - 21년도 타자의 기록 - from 스탯티즈 홈페이지\n",
    "    * \"타격 일반 기록\" : 타석, 타수, 득점, 안타, 2루타, 3루타, 홈런, 총 루타, 타점, 도루, 도루실패, 볼넷, 사구, 고의사구, 삼진, 병살, 희생번트, 희생플라이\n",
    "    * \"타격 비율 기록\" :  타율, 출루율, 장타율, OPS, wOBA, wRC+, WAR, WPA\n",
    "    * \"수비 일반 기록\" : 출장, 선발, 이닝, 기회, 자살, 보살, 실책 \n",
    "    * \"수비 비율 기록\" : 수비율, sFR\n",
    "  - KBO의 최근 7년 관중 수 (2015 ~ 2021) - from KBO 공식 홈페이지\n",
    "  - 마구마구 내의 타자 능력치 - from 마구마구 인게임\n",
    "  <br/><br/>\n",
    "- 현재 분석 한 데이터 내용\n",
    "  - 21년도 타자의 타격 일반 기록, 타격 비율 기록\n",
    "  - KBO최근 7년간 관중 수\n",
    "  - 마구마구 내의 타자 능력치 (WAR 상위 5명 + ${alpha}$)"
   ]
  },
  {
   "cell_type": "markdown",
   "metadata": {},
   "source": [
    "### 4. 분석 중간 결과\n",
    "\n",
    "#### 1) 2021년도 선수들의 기록 분석을 통한 게임 능력치 설정\n",
    "* data01.txt 사용\n",
    "  * 해당 데이터는 2021년도 선수들 (150명)의 타격 일반, 비율 기록이 저장되어 있다.\n",
    "   <br/><br/>\n",
    "* 계산 방식\n",
    "  1) 전체 선수들의 데이터를 통해 평균, 최대, 최소 값을 구한다.\n",
    "  2) 측정하려고 하는 선수의 기록이 평균보다 낮은지 높은지를 구한다.\n",
    "  3) 최대값과 평균 사이의 값, 최솟값과 평균 사이의 값을 나누어 가중치를 부여하여 측정하려는 선수의 가중치를 구한다. (평균보다 높다면 + 가중치, 낮다면 - 가중치)\n",
    "  4) 마구마구 내의 평균 능력치를 70으로 가정하고, 위에서 계산한 가중치를 70에 더하여 게임 능력치를 측정하였다. (계산에 사용한 함수의 일부 6번에 첨부)\n",
    "   <br/><br/>\n",
    "* 파워\n",
    "  * 선수의 홈런과 장타율을 통해 능력치를 설정했다.\n",
    "  * 홈런 가중치와 장타율 가중치는 2:1 비율로 부여하여 파워 능력치를 설정했다.\n",
    "   <br/><br/>\n",
    "* 스피드\n",
    "  * 선수의 도루 갯수, 도루 성공률, 병살타 갯수를 통해 능력치를 설정했다.\n",
    "  * 도루 갯수와 도루 성공률은 + 값이지만 병살타 갯수는 - 값으로 계산했다.\n",
    "  * 도루 갯수 가중치와 도루 성공률, 병살타 가중치를 2:1:2 비율로 부여하여 스피드 능력치를 설정했다.\n",
    "   <br/><br/>\n",
    "\n",
    "#### 2) 데이터 분석을 통해 계산한 결과와 게임 내 능력치 비교\n",
    "* ma9data01.txt 사용\n",
    "  * 해당 데이터는 선수이름, 파워, 컨텍트, 스피드, 스로잉, 수비 순서로 데이터가 저장되어 있다.\n",
    "  * 마구마구 게임 내의 선수 능력치 정보는 다른 방법으로 가져올 방법이 없어서 실제로 게임을 실행하여 능력치를 직접 적어오는  방식을 선택했다. (차후에 더 많은 데이터를 가져올 예정)\n",
    "  * 현재 WAR 상위 5명의 선수에 대한 정보를 비교해 보았다.\n",
    "<br/><br/>\n",
    "* 결과물\n",
    "  * 이름, 파워, 스피드 순서로 정렬된 데이터\n",
    "  * 홍창기  68  77 / 이정후  69  75 / 강백호  72  70 / 최정    83  70 / 양의지  81  69\n",
    "<br/><br/>\n",
    "  * 파워 능력치 계산 결과 <br/>\n",
    "홍창기의 파워는 69.0520896 <br/>\n",
    "이정후의 파워는 72.06051111111114 <br/>\n",
    "강백호의 파워는 81.11042880000008 <br/>\n",
    "최정의 파워는 100.09816248888879 <br/>\n",
    "양의지의 파워는 95.33689120000015 <br/>\n",
    "<br/>\n",
    "  * 스피드 능력치 계산 결과 <br/>\n",
    "홍창기의 스피드는 75.90633513944618 <br/>\n",
    "이정후의 스피드는 73.074009158039 <br/>\n",
    "강백호의 스피드는 72.25923675963078 <br/>\n",
    "최정의 스피드는 72.50347351926158 <br/>\n",
    "양의지의 스피드는 69.57518342629746 <br/>\n",
    "<br/>\n",
    "* 의미있는 분석 결과\n",
    "  * 마구마구 능력치 : 한유섬 86 71  /  계산한 능력치 : 한유섬의 파워는 96.23431608888905\n",
    "  * 한유섬의 경우 최정에 비해 홈런과 장타율이 낮지만 게임 내에서 최정보다 더 높은 파워 능력치를 가지고 있는 것을 확인하여 가설에 부합하는 case를 찾을 수 있었다.\n",
    "\n",
    "#### 3) 최근 7년간 관중 수를 통한 인기팀 순위 추출\n",
    "* fan.txt 파일 사용\n",
    "  * 해당 데이터는 최근 7개년 10개팀의 관중 수가 저장되어 있다.\n",
    "  * KT팀이 생성된 이후의 데이터를 위해서 최근 7개년의 데이터를 선정하였다.\n",
    "  * 각 팀의 7개년 관중을 더하여 순위를 결정하였다.\n",
    "<br/><br/>\n",
    "* 결과물    <br/>\n",
    "[('두산', 1165020), ('LG', 1157646), ('SSG', 865194), ('롯데', 852639), ('삼성', 851417), ('키움', 782121), ('기아', 773499), ('KT', 682444), ('한화', 660472), ('NC', 549125)]        "
   ]
  },
  {
   "cell_type": "markdown",
   "metadata": {},
   "source": [
    "### 5. 개선 사항 및 이후 구현 계획\n",
    "* 개선 사항\n",
    "  * 개인적인 생각을 통해 능력치의 가중치를 부여했기 때문에 정확한 결과 분석이 안 될 가능성이있다.\n",
    "  * 실제 기록 측정 방식 조사를 통해 각 능력치별로 적합한 실제기록을 이용하여 계산할 예정이다.\n",
    "  <br/><br/>\n",
    "* 이후 구현 계획\n",
    "  * 나머지 능력치인 컨텍트, 스로잉, 수비 능력치를 계산\n",
    "  * 능력치 시각화\n",
    "  * 마구마구 데이터와 비교한 모습 시각화\n",
    "  * 인기 구단과 게임 내 능력치 상관관계 분석"
   ]
  },
  {
   "cell_type": "markdown",
   "metadata": {},
   "source": [
    "### 6. 계산에 사용한 함수 일부분"
   ]
  },
  {
   "cell_type": "code",
   "execution_count": null,
   "metadata": {},
   "outputs": [],
   "source": [
    "# 파워 계산 과정에 있어서 사용한 함수 원본\n",
    "def cal_power(self, playerlist, index):\n",
    "        plusPower = (self.maxHR + self.avgHR) / 100\n",
    "        minusPower = -(self.minHR + self.avgHR) / 100\n",
    "\n",
    "        plusSLG = (self.maxSLG + self.avgSLG) / 100\n",
    "        minusSLG = -(self.minSLG + self.avgSLG) / 100\n",
    "\n",
    "        temp_avgHR = self.avgHR\n",
    "        temp_avgSLG = self.avgSLG\n",
    "        \n",
    "        tick_HR = 0\n",
    "        tick_SLG = 0\n",
    "\n",
    "        playerPower = 70\n",
    "\n",
    "        if float(playerlist[index][11]) >= self.avgHR:\n",
    "            while temp_avgHR <= float(playerlist[index][11]):\n",
    "                temp_avgHR += plusPower # 평균값에서 tick을 더해서 자기 자신의 갯수까지 오기전 까지 처리\n",
    "                tick_HR += plusPower # 더해진 plusTick 저장\n",
    "        else:\n",
    "            while temp_avgHR >= float(playerlist[index][11]):\n",
    "                temp_avgHR += minusPower\n",
    "                tick_HR += minusPower\n",
    "\n",
    "        if float(playerlist[index][25]) >= self.avgSLG:\n",
    "            while temp_avgSLG <= float(playerlist[index][11]):\n",
    "                temp_avgSLG += plusSLG \n",
    "                tick_SLG += plusSLG \n",
    "        else:\n",
    "            while temp_avgSLG >= float(playerlist[index][11]):\n",
    "                temp_avgSLG += minusSLG\n",
    "                tick_SLG += minusSLG\n",
    "\n",
    "        return playerPower + (tick_HR*2 + tick_SLG)/3 #계산된 선수의 파워 return "
   ]
  },
  {
   "cell_type": "markdown",
   "metadata": {},
   "source": [
    "### 7. 참고 문헌\n",
    "- 없음"
   ]
  }
 ],
 "metadata": {
  "kernelspec": {
   "display_name": "Python 3.9.13 64-bit (microsoft store)",
   "language": "python",
   "name": "python3"
  },
  "language_info": {
   "name": "python",
   "version": "3.9.13"
  },
  "orig_nbformat": 4,
  "vscode": {
   "interpreter": {
    "hash": "497338f01161d141240caa60efca5087225791fadc9b7c964beb65d863e046f0"
   }
  }
 },
 "nbformat": 4,
 "nbformat_minor": 2
}
