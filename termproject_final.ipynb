{
 "cells": [
  {
   "cell_type": "markdown",
   "metadata": {},
   "source": [
    "## Term Project Final-report"
   ]
  },
  {
   "cell_type": "markdown",
   "metadata": {},
   "source": [
    "#### 소프트웨어융합학과 2018103258 임형준\n"
   ]
  },
  {
   "cell_type": "markdown",
   "metadata": {},
   "source": [
    "### 1. 주제 및 선정 이유\n",
    "* 주제: KBO 프로야구 선수들의 성적을 토대로 게임 내에서 합당한 선수카드의 능력치 설정하기\n",
    "* 주제 선정 이유: 게임 내에서 선수 카드의 능력치 설정에 실제 기록을 제대로 반영하여 적용하지 않은 경우가 있을 것이라고 생각했기 때문이다.\n"
   ]
  },
  {
   "cell_type": "markdown",
   "metadata": {},
   "source": [
    "### 2. 가설 정의\n",
    "\n",
    "- 가설 1) 야구 게임 \"마구마구\" 의 경우 한 시즌 간 선수들의 능력치를 제대로 반영하여 선수카드 능력치를 측정하지 않은 경우가 존재 할 것이다.\n",
    "\n",
    "- 가설 2) 인기팀 (인기 선수)의 경우 유사한 기록을 가진 혹은 더 좋은 성적을 가진 선수보다 더 높은 능력치를 부여받은 경우가 있을 것이다.\n"
   ]
  },
  {
   "cell_type": "markdown",
   "metadata": {},
   "source": [
    "### 3. 데이터 획득\n",
    "* 가설을 증명하기 위해서 스탯티즈 홈페이지 (http://www.statiz.co.kr/main.php) 에 존재하는 시즌 기록에서 타격, 수비의 기록 표를 txt 파일로 만든 이후 파이썬의 readlines를 통해서 데이터를 읽어 와서 리스트로 정리하는 방식을 사용했다.\n"
   ]
  },
  {
   "cell_type": "code",
   "execution_count": 1,
   "metadata": {},
   "outputs": [],
   "source": [
    "'''\n",
    "데이터 획득 예시 코드\n",
    "'''\n",
    "class ReadDate:\n",
    "    def __init__(self, filename):\n",
    "        f = open(filename, \"r\", encoding='utf-8')\n",
    "        self.lines = f.readlines()\n",
    "        self.player = [] # 선수 넣는 리스트\n",
    "        self.colsize = 0 # colsize계산\n",
    "\n",
    "    def makePlayerList(self):\n",
    "        for line in self.lines:\n",
    "            line = line.split()\n",
    "            #if int(line[4]) >= 3:\n",
    "            self.player.append(line)\n",
    "            self.colsize+=1\n",
    "\n",
    "    def getPlayerList(self):\n",
    "        return self.player\n",
    "\n",
    "    def getColsize(self):\n",
    "        return self.colsize"
   ]
  },
  {
   "cell_type": "markdown",
   "metadata": {},
   "source": [
    "### 4. 데이터의 가공\n",
    "#### 1) 2021년도 선수들의 기록 분석을 통한 게임 능력치 설정\n",
    "* data01.txt 사용\n",
    "  * 해당 데이터는 2021년도 선수들 (150명)의 타격 일반, 비율 기록이 저장되어 있다.\n",
    "   <br/><br/>\n",
    "* 계산 방식\n",
    "  1) 전체 선수들의 데이터를 통해 평균, 최대, 최소 값을 구한다.\n",
    "  2) 측정하려고 하는 선수의 기록이 평균보다 낮은지 높은지를 구한다.\n",
    "  3) 최대값과 평균 사이의 값, 최솟값과 평균 사이의 값을 나누어 가중치를 부여하여 측정하려는 선수의 가중치를 구한다. (평균보다 높다면 + 가중치, 낮다면 - 가중치)\n",
    "  4) 마구마구 내의 평균 능력치를 70으로 가정하고, 위에서 계산한 가중치를 70에 더하여 게임 능력치를 측정하였다.\n",
    "   <br/><br/>\n",
    "* 파워\n",
    "  * 선수의 홈런과 장타율을 통해 능력치를 설정했다.\n",
    "  * 홈런 가중치와 장타율 가중치는 2:1 비율로 부여하여 파워 능력치를 설정했다.\n",
    "   <br/><br/>\n",
    "* 스피드\n",
    "  * 선수의 도루 갯수, 도루 성공률, 병살타 갯수를 통해 능력치를 설정했다.\n",
    "  * 도루 갯수와 도루 성공률은 + 값이지만 병살타 갯수는 - 값으로 계산했다.\n",
    "  * 도루 갯수 가중치와 도루 성공률, 병살타 가중치를 2:1:2 비율로 부여하여 스피드 능력치를 설정했다.\n",
    "   <br/><br/>\n",
    "* 컨텍트\n",
    "  * 타율과 출루율을 통해 능력치를 설정했다.\n",
    "  * 타율과 장타율의 가중치는 1:1의 비율로 부여하여 컨텍트 능력치를 설정했다.\n",
    "  <br/><br/>\n",
    "* IF.txt, OF.txt 사용\n",
    "  * 해당 데이터는 2021년도 선수들의 수비 기록이 저장되어 있다.\n",
    "  <br/><br/>\n",
    "* 계산 방식\n",
    "  * 파워 스피드, 컨텍트를 계산한 방식과 유사하다.\n",
    "  <br/><br/>\n",
    "* 스로잉\n",
    "  * 내야수인 경우 보살 갯수, 외야수인 경우는 보살 갯수 + ARM\n",
    "  * 내야수의 경우 ARM의 기록이 0이기 때문에 제외하고 계산했다.\n",
    "  * 외야수의 경우 ARM의 가중치를 2로 부여하여 스로잉 능력치를 계산했다.\n",
    "  <br/><br/>\n",
    "* 수비\n",
    "  * 수비율과 WAAwithADJ(평균선수 대비 수비 승리 기여도)를 통해 능력치를 설정했다.\n",
    "  * 수비율과 WAA의 비율은 1:1의 비율로 수비 능력치를 계산했다.\n",
    "  <br/><br/>\n",
    "\n",
    "#### 2) 데이터 분석을 통해 계산한 결과와 게임 내 능력치 비교\n",
    "* ma9data01.txt 사용\n",
    "  * 해당 데이터는 선수이름, 파워, 컨텍트, 스피드, 스로잉, 수비 순서로 데이터가 저장되어 있다.\n",
    "  * 마구마구 게임 내의 선수 능력치 정보는 다른 방법으로 가져올 방법이 없어서 실제로 게임을 실행하여 능력치를 직접 적어오는  방식을 선택했다.\n",
    "  * plot의 bar 함수를 이용해서 계산한 데이터와 게임 내 데이터를 비교해서 시각화 하였다.\n",
    "  * 4-1에 사용한 함수를 첨부하였다.\n",
    "  \n",
    "\n"
   ]
  },
  {
   "cell_type": "markdown",
   "metadata": {},
   "source": [
    "### 4-1 사용 코드"
   ]
  },
  {
   "cell_type": "code",
   "execution_count": 2,
   "metadata": {},
   "outputs": [],
   "source": [
    "def draw_all(self):\n",
    "        self.calcuate_all()\n",
    "        x = [\"power\",\"contact\",\"speed\",\"throwing\",\"defense\"]\n",
    "        index = np.arange(len(x))\n",
    "        ma9Y = [float(ma9playerlist[self.ma9index][1]),float(ma9playerlist[self.ma9index][2]),float(ma9playerlist[self.ma9index][3]),float(ma9playerlist[self.ma9index][4]),float(ma9playerlist[self.ma9index][5])]\n",
    "        plt.title(self.name, fontsize=20)\n",
    "        plt.bar(index, self.calculate_list, color=\"blue\",width=0.35)\n",
    "        plt.bar(index+0.35, ma9Y, color=\"red\",width=0.35)\n",
    "        plt.xticks(index, x, fontsize=15)\n",
    "        plt.show()"
   ]
  },
  {
   "cell_type": "markdown",
   "metadata": {},
   "source": [
    "### 5. 분석 결과"
   ]
  },
  {
   "cell_type": "markdown",
   "metadata": {},
   "source": [
    "### 6. 결론"
   ]
  },
  {
   "cell_type": "markdown",
   "metadata": {},
   "source": [
    "### 7. 참고 문헌\n",
    "* 없음"
   ]
  }
 ],
 "metadata": {
  "kernelspec": {
   "display_name": "Python 3.9.13 64-bit (microsoft store)",
   "language": "python",
   "name": "python3"
  },
  "language_info": {
   "codemirror_mode": {
    "name": "ipython",
    "version": 3
   },
   "file_extension": ".py",
   "mimetype": "text/x-python",
   "name": "python",
   "nbconvert_exporter": "python",
   "pygments_lexer": "ipython3",
   "version": "3.9.13"
  },
  "orig_nbformat": 4,
  "vscode": {
   "interpreter": {
    "hash": "497338f01161d141240caa60efca5087225791fadc9b7c964beb65d863e046f0"
   }
  }
 },
 "nbformat": 4,
 "nbformat_minor": 2
}
